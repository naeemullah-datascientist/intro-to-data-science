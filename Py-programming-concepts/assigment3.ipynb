{
  "nbformat": 4,
  "nbformat_minor": 0,
  "metadata": {
    "colab": {
      "provenance": []
    },
    "kernelspec": {
      "name": "python3",
      "display_name": "Python 3"
    },
    "language_info": {
      "name": "python"
    }
  },
  "cells": [
    {
      "cell_type": "markdown",
      "source": [
        "# **Assignment 3: Python Programming Concepts**\n",
        "Our main focus is on implementing solutions using functions, lambda expressions, custom iterators, generators, exception handling, and decorators.\n",
        "The tasks are divided into three main sections:\n",
        "\n",
        "1.E-commerce Data Processing\n",
        "\n",
        "2.Iterator and Generator\n",
        "\n",
        "3.Exception Handling and Function Decorators"
      ],
      "metadata": {
        "id": "tFo4uFt0dm5S"
      }
    },
    {
      "cell_type": "markdown",
      "source": [
        "# **Task 1: E-commerce Data Processing**\n",
        "Create a system to handle order and customer data for an online store. The tasks include validating the data, applying discounts, and calculating total sales using lambda functions, Python’s built-in functions, and exception handling."
      ],
      "metadata": {
        "id": "i_MqlAWqdqEn"
      }
    },
    {
      "cell_type": "code",
      "source": [
        "orders = [\n",
        "    {\"customer\": \"Alice\", \"total\": 250.5},\n",
        "    {\"customer\": \"Bob\", \"total\": \"invalid_data\"},\n",
        "    {\"customer\": \"Charlie\", \"total\": 450},\n",
        "    {\"customer\": \"Daisy\", \"total\": 100.0},\n",
        "    {\"customer\": \"Eve\", \"total\": -30}\n",
        "]\n"
      ],
      "metadata": {
        "id": "3VhlDWAYdpjD"
      },
      "execution_count": 1,
      "outputs": []
    },
    {
      "cell_type": "markdown",
      "source": [
        "**Code Implemention:**\n",
        "\n",
        "1.Uses a lambda function with the filter() built-in function to filter out invalid orders where the total is either non-numeric or less than zero.\n",
        "\n",
        "2.Uses exception handling to handle any type conversion issues.\n",
        "\n",
        "3.Returns the filtered valid orders as a list of dictionaries."
      ],
      "metadata": {
        "id": "8PxjWdxAdrXA"
      }
    },
    {
      "cell_type": "code",
      "source": [
        "def validate_orders(orders):\n",
        "    try:\n",
        "        valid_orders = list(filter(lambda order: isinstance(order['total'], (int, float)) and order['total'] > 0, orders))\n",
        "    except Exception as e:\n",
        "        print(f\"Error occurred during validation: {e}\")\n",
        "        return []\n",
        "    return valid_orders\n",
        "\n",
        "\n",
        "filtered_orders = validate_orders(orders)\n",
        "print(\"Filtered Orders:\", filtered_orders)\n"
      ],
      "metadata": {
        "colab": {
          "base_uri": "https://localhost:8080/"
        },
        "id": "H40cKs-EdsE0",
        "outputId": "8b37c79e-0455-42bc-b03d-0df31729f27e"
      },
      "execution_count": 2,
      "outputs": [
        {
          "output_type": "stream",
          "name": "stdout",
          "text": [
            "Filtered Orders: [{'customer': 'Alice', 'total': 250.5}, {'customer': 'Charlie', 'total': 450}, {'customer': 'Daisy', 'total': 100.0}]\n"
          ]
        }
      ]
    },
    {
      "cell_type": "markdown",
      "source": [
        "**Part B: Discount Application**\n",
        "\n",
        "After validating the orders, the store is offering a 10% discount on all orders above $300. Write a function that:\n",
        "\n",
        "1.Uses the map() function with a lambda to apply the discount to qualifying orders.\n",
        "2.Returns a new list with the updated totals for each customer."
      ],
      "metadata": {
        "id": "H5_mxrGRdsb4"
      }
    },
    {
      "cell_type": "code",
      "source": [
        "def apply_discount(orders):\n",
        "    discounted_orders = list(map(lambda order: {\"customer\": order[\"customer\"],\"total\": order[\"total\"] * 0.9 if order[\"total\"] > 300 else order[\"total\"]}, orders))\n",
        "    return discounted_orders\n",
        "\n",
        "discounted_orders = apply_discount(filtered_orders)\n",
        "print(\"Discounted Orders:\", discounted_orders)\n"
      ],
      "metadata": {
        "colab": {
          "base_uri": "https://localhost:8080/"
        },
        "id": "dkgmiF4gdtAX",
        "outputId": "75fbf38b-c47f-4a24-a7a0-f6b8e0d48883"
      },
      "execution_count": 3,
      "outputs": [
        {
          "output_type": "stream",
          "name": "stdout",
          "text": [
            "Discounted Orders: [{'customer': 'Alice', 'total': 250.5}, {'customer': 'Charlie', 'total': 405.0}, {'customer': 'Daisy', 'total': 100.0}]\n"
          ]
        }
      ]
    },
    {
      "cell_type": "markdown",
      "source": [
        "**Part C: Total Sales Calculation**\n",
        "\n",
        "Task:\n",
        "\n",
        "Use the reduce() function with a lambda to:\n",
        "\n",
        "  Calculate the total sales from the list of valid orders (after applying discounts)."
      ],
      "metadata": {
        "id": "jAv4HeYtdtdx"
      }
    },
    {
      "cell_type": "code",
      "source": [
        "from functools import reduce\n",
        "def calculate_total_sales(orders):\n",
        "\n",
        "    total_sales = reduce(lambda acc, order: acc + order['total'], orders, 0)\n",
        "    return total_sales\n",
        "\n",
        "\n",
        "total_sales = calculate_total_sales(discounted_orders)\n",
        "print(\"Total Sales:\", total_sales)\n"
      ],
      "metadata": {
        "colab": {
          "base_uri": "https://localhost:8080/"
        },
        "id": "gDcZXcD_dukm",
        "outputId": "853c035a-9e52-493a-b032-22de21808748"
      },
      "execution_count": 4,
      "outputs": [
        {
          "output_type": "stream",
          "name": "stdout",
          "text": [
            "Total Sales: 755.5\n"
          ]
        }
      ]
    },
    {
      "cell_type": "markdown",
      "source": [
        "# **Task 2: Iterator and Generator**\n",
        "\n",
        "\n",
        "You will implement a custom iterator and generator."
      ],
      "metadata": {
        "id": "EXVhFq0HkmTy"
      }
    },
    {
      "cell_type": "markdown",
      "source": [
        "**Part A: Custom Iterator**\n",
        "\n",
        "\n",
        "Create a custom iterator class SquareIterator that:\n",
        "\n",
        "Takes an integer n and iterates over the first n natural numbers, yielding their squares."
      ],
      "metadata": {
        "id": "tNG7QyF-lWUe"
      }
    },
    {
      "cell_type": "code",
      "source": [
        "class SquareIterator:\n",
        "    def __init__(self, n):\n",
        "        self.n = n\n",
        "        self.current = 1\n",
        "\n",
        "    def __iter__(self):\n",
        "        return self\n",
        "\n",
        "    def __next__(self):\n",
        "        if self.current <= self.n:\n",
        "            result = self.current ** 2\n",
        "            self.current += 1\n",
        "            return result\n",
        "        else:\n",
        "            raise StopIteration\n",
        "\n",
        "squares = SquareIterator(5)\n",
        "for square in squares:\n",
        "    print(square)\n"
      ],
      "metadata": {
        "colab": {
          "base_uri": "https://localhost:8080/"
        },
        "id": "ahn6-veskjmX",
        "outputId": "bb5340da-8141-4400-df99-325a25e79db4"
      },
      "execution_count": 5,
      "outputs": [
        {
          "output_type": "stream",
          "name": "stdout",
          "text": [
            "1\n",
            "4\n",
            "9\n",
            "16\n",
            "25\n"
          ]
        }
      ]
    },
    {
      "cell_type": "markdown",
      "source": [
        "# **Part B: Fibonacci Generator**\n",
        "\n",
        "Write a generator function fibonacci_generator() that:\n",
        "\n",
        "Yields the Fibonacci sequence up to the number n."
      ],
      "metadata": {
        "id": "cq75xK5ZknDg"
      }
    },
    {
      "cell_type": "code",
      "source": [
        "def fibonacci_generator(n):\n",
        "    a, b = 0, 1\n",
        "    while a <= n:\n",
        "        yield a\n",
        "        a, b = b, a + b\n",
        "\n",
        "for num in fibonacci_generator(21):\n",
        "    print(num)\n"
      ],
      "metadata": {
        "colab": {
          "base_uri": "https://localhost:8080/"
        },
        "id": "pF1EnSkClwfu",
        "outputId": "d1fbabc0-89ce-4ba4-fbf2-cbeecc3f674b"
      },
      "execution_count": 6,
      "outputs": [
        {
          "output_type": "stream",
          "name": "stdout",
          "text": [
            "0\n",
            "1\n",
            "1\n",
            "2\n",
            "3\n",
            "5\n",
            "8\n",
            "13\n",
            "21\n"
          ]
        }
      ]
    },
    {
      "cell_type": "markdown",
      "source": [
        "# **Task 3: Exception Handling and Function Decorator**\n",
        "\n",
        "Implement robust exception handling and function decorators."
      ],
      "metadata": {
        "id": "rJDd_eY9lxB8"
      }
    },
    {
      "cell_type": "markdown",
      "source": [
        "**Part A: Chained Exceptions**\n",
        "\n",
        "Write a function that:\n",
        "\n",
        "Takes a list of numbers and tries to divide each number by a divisor.\n",
        "If the divisor is zero, raises a custom exception.\n",
        "If any other error occurs (e.g., non-numeric input), raises an appropriate exception and chains it to the custom exception to provide context."
      ],
      "metadata": {
        "id": "_u-JE-Ycm7FB"
      }
    },
    {
      "cell_type": "code",
      "source": [
        "class DivisionError(Exception):\n",
        "    pass\n",
        "\n",
        "def divide_numbers(numbers, divisor):\n",
        "    try:\n",
        "        if divisor == 0:\n",
        "            raise DivisionError(\"Cannot divide by zero.\")\n",
        "        return [num / divisor for num in numbers]\n",
        "    except TypeError as e:\n",
        "        raise DivisionError(\"Non-numeric input encountered.\") from e\n",
        "\n",
        "try:\n",
        "    result = divide_numbers([10, \"five\", 20], 5)\n",
        "    print(\"Division Result:\", result)\n",
        "except DivisionError as e:\n",
        "    print(\"Error:\", e)\n"
      ],
      "metadata": {
        "colab": {
          "base_uri": "https://localhost:8080/"
        },
        "id": "DNOS_Ns3mKvR",
        "outputId": "69a2b78c-74c4-4c16-b238-7f2b64ba7234"
      },
      "execution_count": 7,
      "outputs": [
        {
          "output_type": "stream",
          "name": "stdout",
          "text": [
            "Error: Non-numeric input encountered.\n"
          ]
        }
      ]
    },
    {
      "cell_type": "markdown",
      "source": [
        "**Part B: Exception Logging Decorator**\n",
        "\n",
        "\n",
        "Create a decorator that:\n",
        "\n",
        "Logs exceptions raised during the execution of a function.\n",
        "\n",
        "It should print the exception type, message, and the function where the exception occurred."
      ],
      "metadata": {
        "id": "NRfjKaQtmLKO"
      }
    },
    {
      "cell_type": "code",
      "source": [
        "def exception_logger(func):\n",
        "    def wrapper(*args, **kwargs):\n",
        "        try:\n",
        "            return func(*args, **kwargs)\n",
        "        except Exception as e:\n",
        "            print(f\"Exception in {func.__name__}: {type(e).__name__} - {e}\")\n",
        "            raise\n",
        "    return wrapper\n",
        "\n",
        "@exception_logger\n",
        "def faulty_division(a, b):\n",
        "    return a / b\n",
        "\n",
        "try:\n",
        "    faulty_division(10, 0)\n",
        "except ZeroDivisionError:\n",
        "    pass\n"
      ],
      "metadata": {
        "colab": {
          "base_uri": "https://localhost:8080/"
        },
        "id": "KbOF6KpJmMTZ",
        "outputId": "dc6f03df-fc79-4358-b351-3378cb173195"
      },
      "execution_count": 8,
      "outputs": [
        {
          "output_type": "stream",
          "name": "stdout",
          "text": [
            "Exception in faulty_division: ZeroDivisionError - division by zero\n"
          ]
        }
      ]
    }
  ]
}